{
 "cells": [
  {
   "cell_type": "code",
   "execution_count": 1,
   "id": "f6ac25c9",
   "metadata": {},
   "outputs": [
    {
     "name": "stdout",
     "output_type": "stream",
     "text": [
      "Looking in indexes: http://pypi.douban.com/simple/\n",
      "Requirement already satisfied: pandas in /Users/lydiretsai/opt/anaconda3/lib/python3.9/site-packages (1.4.4)\n",
      "Requirement already satisfied: numpy in /Users/lydiretsai/opt/anaconda3/lib/python3.9/site-packages (1.26.1)\n",
      "Requirement already satisfied: matplotlib in /Users/lydiretsai/opt/anaconda3/lib/python3.9/site-packages (3.5.2)\n",
      "Requirement already satisfied: statsmodels in /Users/lydiretsai/opt/anaconda3/lib/python3.9/site-packages (0.13.2)\n",
      "Requirement already satisfied: pandas_datareader in /Users/lydiretsai/opt/anaconda3/lib/python3.9/site-packages (0.10.0)\n",
      "Requirement already satisfied: pandas_ta in /Users/lydiretsai/opt/anaconda3/lib/python3.9/site-packages (0.3.14b0)\n",
      "Requirement already satisfied: datetime in /Users/lydiretsai/opt/anaconda3/lib/python3.9/site-packages (5.4)\n",
      "Requirement already satisfied: akshare in /Users/lydiretsai/opt/anaconda3/lib/python3.9/site-packages (1.8.28)\n",
      "Requirement already satisfied: scikit-learn in /Users/lydiretsai/opt/anaconda3/lib/python3.9/site-packages (1.0.2)\n",
      "Requirement already satisfied: PyPortfolioOpt in /Users/lydiretsai/opt/anaconda3/lib/python3.9/site-packages (1.5.5)\n",
      "Requirement already satisfied: python-dateutil>=2.8.1 in /Users/lydiretsai/opt/anaconda3/lib/python3.9/site-packages (from pandas) (2.8.2)\n",
      "Requirement already satisfied: pytz>=2020.1 in /Users/lydiretsai/opt/anaconda3/lib/python3.9/site-packages (from pandas) (2023.3.post1)\n",
      "Requirement already satisfied: cycler>=0.10 in /Users/lydiretsai/opt/anaconda3/lib/python3.9/site-packages (from matplotlib) (0.11.0)\n",
      "Requirement already satisfied: fonttools>=4.22.0 in /Users/lydiretsai/opt/anaconda3/lib/python3.9/site-packages (from matplotlib) (4.25.0)\n",
      "Requirement already satisfied: kiwisolver>=1.0.1 in /Users/lydiretsai/opt/anaconda3/lib/python3.9/site-packages (from matplotlib) (1.4.2)\n",
      "Requirement already satisfied: packaging>=20.0 in /Users/lydiretsai/opt/anaconda3/lib/python3.9/site-packages (from matplotlib) (21.3)\n",
      "Requirement already satisfied: pillow>=6.2.0 in /Users/lydiretsai/opt/anaconda3/lib/python3.9/site-packages (from matplotlib) (9.2.0)\n",
      "Requirement already satisfied: pyparsing>=2.2.1 in /Users/lydiretsai/opt/anaconda3/lib/python3.9/site-packages (from matplotlib) (3.0.9)\n",
      "Requirement already satisfied: scipy>=1.3 in /Users/lydiretsai/opt/anaconda3/lib/python3.9/site-packages (from statsmodels) (1.11.3)\n",
      "Requirement already satisfied: patsy>=0.5.2 in /Users/lydiretsai/opt/anaconda3/lib/python3.9/site-packages (from statsmodels) (0.5.2)\n",
      "Requirement already satisfied: lxml in /Users/lydiretsai/opt/anaconda3/lib/python3.9/site-packages (from pandas_datareader) (4.9.1)\n",
      "Requirement already satisfied: requests>=2.19.0 in /Users/lydiretsai/opt/anaconda3/lib/python3.9/site-packages (from pandas_datareader) (2.31.0)\n",
      "Requirement already satisfied: zope.interface in /Users/lydiretsai/opt/anaconda3/lib/python3.9/site-packages (from datetime) (5.4.0)\n",
      "Requirement already satisfied: beautifulsoup4>=4.9.1 in /Users/lydiretsai/opt/anaconda3/lib/python3.9/site-packages (from akshare) (4.11.1)\n",
      "Requirement already satisfied: pypinyin>=0.35.0 in /Users/lydiretsai/opt/anaconda3/lib/python3.9/site-packages (from akshare) (0.47.1)\n",
      "Requirement already satisfied: websocket-client>=0.56.0 in /Users/lydiretsai/opt/anaconda3/lib/python3.9/site-packages (from akshare) (0.58.0)\n",
      "Requirement already satisfied: html5lib>=1.0.1 in /Users/lydiretsai/opt/anaconda3/lib/python3.9/site-packages (from akshare) (1.1)\n",
      "Requirement already satisfied: xlrd>=1.2.0 in /Users/lydiretsai/opt/anaconda3/lib/python3.9/site-packages (from akshare) (2.0.1)\n",
      "Requirement already satisfied: urllib3>=1.25.8 in /Users/lydiretsai/opt/anaconda3/lib/python3.9/site-packages (from akshare) (1.26.11)\n",
      "Requirement already satisfied: tqdm>=4.43.0 in /Users/lydiretsai/opt/anaconda3/lib/python3.9/site-packages (from akshare) (4.64.1)\n",
      "Requirement already satisfied: openpyxl>=3.0.3 in /Users/lydiretsai/opt/anaconda3/lib/python3.9/site-packages (from akshare) (3.0.10)\n",
      "Requirement already satisfied: jsonpath>=0.82 in /Users/lydiretsai/opt/anaconda3/lib/python3.9/site-packages (from akshare) (0.82)\n",
      "Requirement already satisfied: tabulate>=0.8.6 in /Users/lydiretsai/opt/anaconda3/lib/python3.9/site-packages (from akshare) (0.8.10)\n",
      "Requirement already satisfied: decorator>=4.4.2 in /Users/lydiretsai/opt/anaconda3/lib/python3.9/site-packages (from akshare) (5.1.1)\n",
      "Requirement already satisfied: py-mini-racer>=0.6.0 in /Users/lydiretsai/opt/anaconda3/lib/python3.9/site-packages (from akshare) (0.6.0)\n",
      "Requirement already satisfied: requests-cache>=0.9.3 in /Users/lydiretsai/opt/anaconda3/lib/python3.9/site-packages (from akshare) (0.9.7)\n",
      "Requirement already satisfied: cfscrape>=2.1.1 in /Users/lydiretsai/opt/anaconda3/lib/python3.9/site-packages (from akshare) (2.1.1)\n",
      "Requirement already satisfied: joblib>=0.11 in /Users/lydiretsai/opt/anaconda3/lib/python3.9/site-packages (from scikit-learn) (1.1.0)\n",
      "Requirement already satisfied: threadpoolctl>=2.0.0 in /Users/lydiretsai/opt/anaconda3/lib/python3.9/site-packages (from scikit-learn) (2.2.0)\n",
      "Requirement already satisfied: cvxpy<2.0.0,>=1.1.19 in /Users/lydiretsai/opt/anaconda3/lib/python3.9/site-packages (from PyPortfolioOpt) (1.4.1)\n",
      "Requirement already satisfied: soupsieve>1.2 in /Users/lydiretsai/opt/anaconda3/lib/python3.9/site-packages (from beautifulsoup4>=4.9.1->akshare) (2.3.1)\n",
      "Requirement already satisfied: osqp>=0.6.2 in /Users/lydiretsai/opt/anaconda3/lib/python3.9/site-packages (from cvxpy<2.0.0,>=1.1.19->PyPortfolioOpt) (0.6.3)\n",
      "Requirement already satisfied: ecos>=2 in /Users/lydiretsai/opt/anaconda3/lib/python3.9/site-packages (from cvxpy<2.0.0,>=1.1.19->PyPortfolioOpt) (2.0.12)\n",
      "Requirement already satisfied: clarabel>=0.5.0 in /Users/lydiretsai/opt/anaconda3/lib/python3.9/site-packages (from cvxpy<2.0.0,>=1.1.19->PyPortfolioOpt) (0.6.0)\n",
      "Requirement already satisfied: scs>=3.0 in /Users/lydiretsai/opt/anaconda3/lib/python3.9/site-packages (from cvxpy<2.0.0,>=1.1.19->PyPortfolioOpt) (3.2.4.post1)\n",
      "Requirement already satisfied: pybind11 in /Users/lydiretsai/opt/anaconda3/lib/python3.9/site-packages (from cvxpy<2.0.0,>=1.1.19->PyPortfolioOpt) (2.11.1)\n",
      "Requirement already satisfied: six>=1.9 in /Users/lydiretsai/opt/anaconda3/lib/python3.9/site-packages (from html5lib>=1.0.1->akshare) (1.16.0)\n",
      "Requirement already satisfied: webencodings in /Users/lydiretsai/opt/anaconda3/lib/python3.9/site-packages (from html5lib>=1.0.1->akshare) (0.5.1)\n",
      "Requirement already satisfied: et_xmlfile in /Users/lydiretsai/opt/anaconda3/lib/python3.9/site-packages (from openpyxl>=3.0.3->akshare) (1.1.0)\n",
      "Requirement already satisfied: charset-normalizer<4,>=2 in /Users/lydiretsai/opt/anaconda3/lib/python3.9/site-packages (from requests>=2.19.0->pandas_datareader) (2.0.4)\n",
      "Requirement already satisfied: idna<4,>=2.5 in /Users/lydiretsai/opt/anaconda3/lib/python3.9/site-packages (from requests>=2.19.0->pandas_datareader) (3.3)\n",
      "Requirement already satisfied: certifi>=2017.4.17 in /Users/lydiretsai/opt/anaconda3/lib/python3.9/site-packages (from requests>=2.19.0->pandas_datareader) (2022.9.24)\n",
      "Requirement already satisfied: appdirs>=1.4.4 in /Users/lydiretsai/opt/anaconda3/lib/python3.9/site-packages (from requests-cache>=0.9.3->akshare) (1.4.4)\n",
      "Requirement already satisfied: attrs>=21.2 in /Users/lydiretsai/opt/anaconda3/lib/python3.9/site-packages (from requests-cache>=0.9.3->akshare) (21.4.0)\n",
      "Requirement already satisfied: cattrs>=22.2 in /Users/lydiretsai/opt/anaconda3/lib/python3.9/site-packages (from requests-cache>=0.9.3->akshare) (22.2.0)\n",
      "Requirement already satisfied: url-normalize>=1.4 in /Users/lydiretsai/opt/anaconda3/lib/python3.9/site-packages (from requests-cache>=0.9.3->akshare) (1.4.3)\n",
      "Requirement already satisfied: setuptools in /Users/lydiretsai/opt/anaconda3/lib/python3.9/site-packages (from zope.interface->datetime) (63.4.1)\n",
      "Requirement already satisfied: exceptiongroup in /Users/lydiretsai/opt/anaconda3/lib/python3.9/site-packages (from cattrs>=22.2->requests-cache>=0.9.3->akshare) (1.0.4)\n",
      "Requirement already satisfied: qdldl in /Users/lydiretsai/opt/anaconda3/lib/python3.9/site-packages (from osqp>=0.6.2->cvxpy<2.0.0,>=1.1.19->PyPortfolioOpt) (0.1.7.post0)\n"
     ]
    },
    {
     "name": "stdout",
     "output_type": "stream",
     "text": [
      "Note: you may need to restart the kernel to use updated packages.\n"
     ]
    }
   ],
   "source": [
    "pip install pandas numpy matplotlib statsmodels pandas_datareader pandas_ta datetime akshare scikit-learn PyPortfolioOpt"
   ]
  },
  {
   "cell_type": "code",
   "execution_count": 1,
   "id": "dfc6f4d5",
   "metadata": {},
   "outputs": [],
   "source": [
    "from statsmodels.regression.rolling import RollingOLS\n",
    "import requests\n",
    "import pandas_datareader.data as web\n",
    "import matplotlib.pyplot as plt\n",
    "import statsmodels.api as sm\n",
    "import pandas as pd\n",
    "import numpy as np\n",
    "import datetime as dt\n",
    "import akshare as ak\n",
    "import pandas_ta\n",
    "import warnings\n",
    "import json\n",
    "warnings.filterwarnings('ignore')"
   ]
  },
  {
   "cell_type": "code",
   "execution_count": 2,
   "id": "af13df16",
   "metadata": {},
   "outputs": [],
   "source": [
    "df = pd.read_csv('/Users/lydiretsai/Documents/quant/AlgorithmicTradingMLQuant/stock_list.csv')\n",
    "df = df.set_index('ticker') #'date', 'symbol', 'ticker']) #\n",
    "df.columns.names = ['market']"
   ]
  },
  {
   "cell_type": "code",
   "execution_count": 3,
   "id": "7a70e549",
   "metadata": {},
   "outputs": [],
   "source": [
    "df['garman_klass_vol'] = ((np.log(df['high']) - np.log(df['low'])) ** 2) / 2 - (2 * np.log(2) - 1) * ((np.log(df['adj close']) - np.log(df['open']))) ** 2\n",
    "df['rsi'] = df.groupby('ticker')['adj close'].transform(lambda x: pandas_ta.rsi(close=x, length=20))\n",
    "df['bb_low'] = df.groupby('ticker')['adj close'].transform(lambda x: pandas_ta.bbands(close=np.log1p(x), length=20).iloc[:, 0])\n",
    "df['bb_mid'] = df.groupby('ticker')['adj close'].transform(lambda x: pandas_ta.bbands(close=np.log1p(x), length=20).iloc[:, 1])\n",
    "df['bb_high'] = df.groupby('ticker')['adj close'].transform(lambda x: pandas_ta.bbands(close=np.log1p(x), length=20).iloc[:, 2])"
   ]
  },
  {
   "cell_type": "code",
   "execution_count": 9,
   "id": "6d962d8b",
   "metadata": {},
   "outputs": [
    {
     "ename": "TypeError",
     "evalue": "Index must be a MultiIndex",
     "output_type": "error",
     "traceback": [
      "\u001b[0;31m---------------------------------------------------------------------------\u001b[0m",
      "\u001b[0;31mTypeError\u001b[0m                                 Traceback (most recent call last)",
      "\u001b[0;32m/var/folders/x1/_334b6ds6msgm3122qjpcwdr0000gn/T/ipykernel_41198/3896738886.py\u001b[0m in \u001b[0;36m<module>\u001b[0;34m\u001b[0m\n\u001b[0;32m----> 1\u001b[0;31m \u001b[0mdf\u001b[0m\u001b[0;34m.\u001b[0m\u001b[0mxs\u001b[0m\u001b[0;34m(\u001b[0m\u001b[0;34m'中国重工'\u001b[0m\u001b[0;34m,\u001b[0m\u001b[0mlevel\u001b[0m\u001b[0;34m=\u001b[0m\u001b[0;36m1\u001b[0m\u001b[0;34m)\u001b[0m\u001b[0;34m[\u001b[0m\u001b[0;34m'rsi'\u001b[0m\u001b[0;34m]\u001b[0m\u001b[0;34m.\u001b[0m\u001b[0mplot\u001b[0m\u001b[0;34m(\u001b[0m\u001b[0;34m)\u001b[0m\u001b[0;34m\u001b[0m\u001b[0;34m\u001b[0m\u001b[0m\n\u001b[0m",
      "\u001b[0;32m~/opt/anaconda3/lib/python3.9/site-packages/pandas/core/generic.py\u001b[0m in \u001b[0;36mxs\u001b[0;34m(self, key, axis, level, drop_level)\u001b[0m\n\u001b[1;32m   3833\u001b[0m         \u001b[0;32mif\u001b[0m \u001b[0mlevel\u001b[0m \u001b[0;32mis\u001b[0m \u001b[0;32mnot\u001b[0m \u001b[0;32mNone\u001b[0m\u001b[0;34m:\u001b[0m\u001b[0;34m\u001b[0m\u001b[0;34m\u001b[0m\u001b[0m\n\u001b[1;32m   3834\u001b[0m             \u001b[0;32mif\u001b[0m \u001b[0;32mnot\u001b[0m \u001b[0misinstance\u001b[0m\u001b[0;34m(\u001b[0m\u001b[0mlabels\u001b[0m\u001b[0;34m,\u001b[0m \u001b[0mMultiIndex\u001b[0m\u001b[0;34m)\u001b[0m\u001b[0;34m:\u001b[0m\u001b[0;34m\u001b[0m\u001b[0;34m\u001b[0m\u001b[0m\n\u001b[0;32m-> 3835\u001b[0;31m                 \u001b[0;32mraise\u001b[0m \u001b[0mTypeError\u001b[0m\u001b[0;34m(\u001b[0m\u001b[0;34m\"Index must be a MultiIndex\"\u001b[0m\u001b[0;34m)\u001b[0m\u001b[0;34m\u001b[0m\u001b[0;34m\u001b[0m\u001b[0m\n\u001b[0m\u001b[1;32m   3836\u001b[0m             \u001b[0mloc\u001b[0m\u001b[0;34m,\u001b[0m \u001b[0mnew_ax\u001b[0m \u001b[0;34m=\u001b[0m \u001b[0mlabels\u001b[0m\u001b[0;34m.\u001b[0m\u001b[0mget_loc_level\u001b[0m\u001b[0;34m(\u001b[0m\u001b[0mkey\u001b[0m\u001b[0;34m,\u001b[0m \u001b[0mlevel\u001b[0m\u001b[0;34m=\u001b[0m\u001b[0mlevel\u001b[0m\u001b[0;34m,\u001b[0m \u001b[0mdrop_level\u001b[0m\u001b[0;34m=\u001b[0m\u001b[0mdrop_level\u001b[0m\u001b[0;34m)\u001b[0m\u001b[0;34m\u001b[0m\u001b[0;34m\u001b[0m\u001b[0m\n\u001b[1;32m   3837\u001b[0m \u001b[0;34m\u001b[0m\u001b[0m\n",
      "\u001b[0;31mTypeError\u001b[0m: Index must be a MultiIndex"
     ]
    }
   ],
   "source": [
    "df.xs('中国重工',level=1)['rsi'].plot()"
   ]
  },
  {
   "cell_type": "code",
   "execution_count": 5,
   "id": "85927dd1",
   "metadata": {},
   "outputs": [],
   "source": [
    "def compute_atr(stock_data):\n",
    "    atr = pandas_ta.atr(high=stock_data['high'],\n",
    "                       low=stock_data['low'],\n",
    "                       close=stock_data['adj close'],\n",
    "                       length=14)\n",
    "    return atr.sub(atr.mean()).div(atr.std())"
   ]
  },
  {
   "cell_type": "code",
   "execution_count": 6,
   "id": "6393f5ea",
   "metadata": {},
   "outputs": [],
   "source": [
    "atr = df.groupby('ticker', group_keys=False).apply(compute_atr)"
   ]
  },
  {
   "cell_type": "code",
   "execution_count": null,
   "id": "779ff7b8",
   "metadata": {},
   "outputs": [],
   "source": [
    "# atr_pd = pd.DataFrame({'atr' :atr})\n",
    "# df = pd.concat([df, atr])\n",
    "# df.assign(new_columns=atr)\n",
    "df['atr'] = df.groupby('ticker', group_keys=False).apply(compute_atr)"
   ]
  },
  {
   "cell_type": "code",
   "execution_count": null,
   "id": "dd856285",
   "metadata": {},
   "outputs": [],
   "source": [
    "df"
   ]
  },
  {
   "cell_type": "code",
   "execution_count": null,
   "id": "04a785f1",
   "metadata": {},
   "outputs": [],
   "source": [
    "def compute_macd(close):\n",
    "    macd = pandas_ta.macd(close=close, length=20).iloc[:, 0]\n",
    "    return macd.sub(macd.mean()).div(macd.std())"
   ]
  },
  {
   "cell_type": "code",
   "execution_count": null,
   "id": "dd432b0e",
   "metadata": {},
   "outputs": [],
   "source": [
    "macd = df.groupby('ticker', group_keys=False)['adj close'].apply(compute_macd)\n",
    "macd"
   ]
  },
  {
   "cell_type": "code",
   "execution_count": null,
   "id": "4007d1f8",
   "metadata": {},
   "outputs": [],
   "source": [
    "df"
   ]
  },
  {
   "cell_type": "code",
   "execution_count": null,
   "id": "5911f727",
   "metadata": {},
   "outputs": [],
   "source": [
    "df"
   ]
  },
  {
   "cell_type": "code",
   "execution_count": null,
   "id": "a9257599",
   "metadata": {},
   "outputs": [],
   "source": []
  }
 ],
 "metadata": {
  "kernelspec": {
   "display_name": "Python 3 (ipykernel)",
   "language": "python",
   "name": "python3"
  },
  "language_info": {
   "codemirror_mode": {
    "name": "ipython",
    "version": 3
   },
   "file_extension": ".py",
   "mimetype": "text/x-python",
   "name": "python",
   "nbconvert_exporter": "python",
   "pygments_lexer": "ipython3",
   "version": "3.9.13"
  }
 },
 "nbformat": 4,
 "nbformat_minor": 5
}
