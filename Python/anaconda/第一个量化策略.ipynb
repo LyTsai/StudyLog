{
 "cells": [
  {
   "attachments": {},
   "cell_type": "markdown",
   "metadata": {},
   "source": [
    "1. 设置股票池为沪深300的所有成分股\n",
    "2. if 股价 < 10/股 且当前不持仓，买入\n",
    "3. if 股价比买入上涨 25% 清仓\n",
    "4. if 股价比买入下跌 10% 清仓"
   ]
  },
  {
   "cell_type": "code",
   "execution_count": null,
   "metadata": {},
   "outputs": [],
   "source": []
  }
 ],
 "metadata": {
  "language_info": {
   "name": "python"
  },
  "orig_nbformat": 4
 },
 "nbformat": 4,
 "nbformat_minor": 2
}
