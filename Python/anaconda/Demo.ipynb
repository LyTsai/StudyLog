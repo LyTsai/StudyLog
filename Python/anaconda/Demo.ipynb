{
 "cells": [
  {
   "cell_type": "code",
   "execution_count": null,
   "metadata": {},
   "outputs": [],
   "source": [
    "import akshare as ak\n",
    "import pandas as pd"
   ]
  },
  {
   "cell_type": "code",
   "execution_count": null,
   "metadata": {},
   "outputs": [],
   "source": [
    "symbol_id = \"000001\"\n",
    "stock_record = ak.stock_zh_a_hist(symbol=symbol_id, adjust=\"hfq\")\n",
    "\n",
    "stock_record.to_csv(\"{}.csv\".format(symbol_id))"
   ]
  },
  {
   "cell_type": "code",
   "execution_count": null,
   "metadata": {},
   "outputs": [],
   "source": [
    "stock_record = pd.read_csv(f\"{symbol_id}.csv\", index_col='日期', parse_dates=[\"日期\"])[['开盘', '收盘', '最高', '最低']]\n",
    "# 修改索引和column的名字\n",
    "stock_record.index.name = 'date'\n",
    "stock_record.columns = ['open', 'close', 'high', 'low']"
   ]
  },
  {
   "cell_type": "code",
   "execution_count": null,
   "metadata": {},
   "outputs": [],
   "source": [
    "# 收盘比开盘上涨3%及以上的日期\n",
    "stock_record[(stock_record['close'] - stock_record['open'])/stock_record['open'] >= 0.03].index"
   ]
  },
  {
   "cell_type": "code",
   "execution_count": null,
   "metadata": {},
   "outputs": [],
   "source": [
    "# 开盘比前日收盘跌2%及以上的日期\n",
    "# shift：+ 数据下移 - 数据上移\n",
    "stock_record[(stock_record['open'] - stock_record['close'].shift(1))/stock_record['close'].shift(1) <= -0.02].index"
   ]
  },
  {
   "cell_type": "code",
   "execution_count": null,
   "metadata": {},
   "outputs": [],
   "source": [
    "# 从2010年1月1日开始，每月第一个交易日买入1手，每年最后一个交易日卖出所有，到今天的收益\n",
    "stock_record = stock_record['2010-01': '2023-12']\n",
    "stock_record"
   ]
  },
  {
   "cell_type": "code",
   "execution_count": 49,
   "metadata": {},
   "outputs": [],
   "source": [
    "# 每个月的和\n",
    "stock_record.resample('M').sum()\n",
    "# 每个月的第一天的数据 M可以写成MS。虽然结果的index是每个月的最后一天，实际取的第一天数据\n",
    "# last()即最后一天的数据\n",
    "stock_monthly = stock_record.resample('M').first()\n",
    "# 每年的最后一天的数据，注意最后一行数据的合理性：最后一天到了没\n",
    "stock_yearly = stock_record.resample('A').last()[:-1]"
   ]
  },
  {
   "cell_type": "code",
   "execution_count": 56,
   "metadata": {},
   "outputs": [
    {
     "name": "stderr",
     "output_type": "stream",
     "text": [
      "/var/folders/cz/xr6426gj23x4j3ky4jk7gg1w0000gn/T/ipykernel_85845/3863114358.py:3: FutureWarning: Indexing a DataFrame with a datetimelike index using a single string to slice the rows, like `frame[string]`, is deprecated and will be removed in a future version. Use `frame.loc[string]` instead.\n",
      "  cost += stock_monthly[str(year)]['open'].sum() * 100\n"
     ]
    },
    {
     "data": {
      "text/plain": [
       "27027074.0"
      ]
     },
     "execution_count": 56,
     "metadata": {},
     "output_type": "execute_result"
    }
   ],
   "source": [
    "cost = 0\n",
    "for year in range(2010, 2023):\n",
    "  cost += stock_monthly[str(year)]['open'].sum() * 100\n",
    "# cost = stock_monthly['open'].sum() * 100\n",
    "cost"
   ]
  }
 ],
 "metadata": {
  "kernelspec": {
   "display_name": "Python 3",
   "language": "python",
   "name": "python3"
  },
  "language_info": {
   "codemirror_mode": {
    "name": "ipython",
    "version": 3
   },
   "file_extension": ".py",
   "mimetype": "text/x-python",
   "name": "python",
   "nbconvert_exporter": "python",
   "pygments_lexer": "ipython3",
   "version": "3.9.5"
  },
  "orig_nbformat": 4,
  "vscode": {
   "interpreter": {
    "hash": "aee8b7b246df8f9039afb4144a1f6fd8d2ca17a180786b69acc140d282b71a49"
   }
  }
 },
 "nbformat": 4,
 "nbformat_minor": 2
}
