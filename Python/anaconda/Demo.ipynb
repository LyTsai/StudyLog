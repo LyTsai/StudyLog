{
 "cells": [
  {
   "cell_type": "code",
   "execution_count": 20,
   "metadata": {},
   "outputs": [],
   "source": [
    "import akshare as ak\n",
    "import pandas as pd"
   ]
  },
  {
   "cell_type": "code",
   "execution_count": 21,
   "metadata": {},
   "outputs": [],
   "source": [
    "# 茅台\n",
    "symbol_id = \"600519\"\n",
    "stock_record = ak.stock_zh_a_hist(symbol=symbol_id, adjust=\"hfq\")\n",
    "\n",
    "stock_record.to_csv(\"{}.csv\".format(symbol_id))"
   ]
  },
  {
   "cell_type": "code",
   "execution_count": 22,
   "metadata": {},
   "outputs": [],
   "source": [
    "stock_record = pd.read_csv(f\"{symbol_id}.csv\", index_col='日期', parse_dates=[\"日期\"])[['开盘', '收盘', '最高', '最低']]\n",
    "# 修改索引和column的名字\n",
    "stock_record.index.name = 'date'\n",
    "stock_record.columns = ['open', 'close', 'high', 'low']"
   ]
  },
  {
   "cell_type": "code",
   "execution_count": 23,
   "metadata": {},
   "outputs": [
    {
     "data": {
      "text/plain": [
       "DatetimeIndex(['2001-08-27', '2001-08-28', '2001-09-10', '2001-12-21',\n",
       "               '2002-01-18', '2002-01-31', '2003-01-14', '2003-10-29',\n",
       "               '2004-01-05', '2004-01-14',\n",
       "               ...\n",
       "               '2021-09-27', '2021-10-13', '2021-12-08', '2021-12-23',\n",
       "               '2022-06-17', '2022-08-31', '2022-11-01', '2022-11-04',\n",
       "               '2022-11-15', '2023-01-05'],\n",
       "              dtype='datetime64[ns]', name='date', length=320, freq=None)"
      ]
     },
     "execution_count": 23,
     "metadata": {},
     "output_type": "execute_result"
    }
   ],
   "source": [
    "# 收盘比开盘上涨3%及以上的日期\n",
    "stock_record[(stock_record['close'] - stock_record['open'])/stock_record['open'] >= 0.03].index"
   ]
  },
  {
   "cell_type": "code",
   "execution_count": 24,
   "metadata": {},
   "outputs": [
    {
     "data": {
      "text/plain": [
       "DatetimeIndex(['2001-09-12', '2002-06-26', '2002-12-13', '2004-07-01',\n",
       "               '2004-10-29', '2006-08-21', '2006-08-23', '2007-01-25',\n",
       "               '2007-02-01', '2007-02-06', '2007-03-19', '2007-05-21',\n",
       "               '2007-05-30', '2007-06-05', '2007-09-10', '2008-03-13',\n",
       "               '2008-03-17', '2008-03-25', '2008-03-27', '2008-04-22',\n",
       "               '2008-04-23', '2008-04-29', '2008-05-13', '2008-06-10',\n",
       "               '2008-06-13', '2008-06-24', '2008-06-27', '2008-08-11',\n",
       "               '2008-08-19', '2008-09-23', '2008-10-10', '2008-10-15',\n",
       "               '2008-10-16', '2008-10-20', '2008-10-23', '2008-10-27',\n",
       "               '2008-11-06', '2008-11-20', '2008-11-21', '2008-12-02',\n",
       "               '2009-02-27', '2009-03-25', '2010-04-26', '2010-04-30',\n",
       "               '2011-08-05', '2012-03-27', '2012-08-10', '2012-11-22',\n",
       "               '2012-12-04', '2012-12-24', '2013-01-16', '2013-01-25',\n",
       "               '2013-09-02', '2014-04-25', '2015-01-19', '2015-07-08',\n",
       "               '2015-07-13', '2015-08-24', '2015-09-15', '2017-11-17',\n",
       "               '2018-02-06', '2018-02-09', '2018-03-23', '2018-07-11',\n",
       "               '2018-10-11', '2018-10-25', '2018-10-29', '2018-10-30',\n",
       "               '2019-05-06', '2019-05-08', '2019-10-16', '2020-01-02',\n",
       "               '2020-02-03', '2020-03-13', '2020-03-23', '2020-10-26',\n",
       "               '2021-02-26', '2021-03-04', '2021-04-28', '2021-08-20',\n",
       "               '2021-11-01', '2022-03-14', '2022-03-15', '2022-03-28',\n",
       "               '2022-10-13', '2022-10-24', '2022-11-28'],\n",
       "              dtype='datetime64[ns]', name='date', freq=None)"
      ]
     },
     "execution_count": 24,
     "metadata": {},
     "output_type": "execute_result"
    }
   ],
   "source": [
    "# 开盘比前日收盘跌2%及以上的日期\n",
    "# shift：+ 数据下移 - 数据上移\n",
    "stock_record[(stock_record['open'] - stock_record['close'].shift(1))/stock_record['close'].shift(1) <= -0.02].index"
   ]
  },
  {
   "cell_type": "code",
   "execution_count": 25,
   "metadata": {},
   "outputs": [
    {
     "data": {
      "text/html": [
       "<div>\n",
       "<style scoped>\n",
       "    .dataframe tbody tr th:only-of-type {\n",
       "        vertical-align: middle;\n",
       "    }\n",
       "\n",
       "    .dataframe tbody tr th {\n",
       "        vertical-align: top;\n",
       "    }\n",
       "\n",
       "    .dataframe thead th {\n",
       "        text-align: right;\n",
       "    }\n",
       "</style>\n",
       "<table border=\"1\" class=\"dataframe\">\n",
       "  <thead>\n",
       "    <tr style=\"text-align: right;\">\n",
       "      <th></th>\n",
       "      <th>open</th>\n",
       "      <th>close</th>\n",
       "      <th>high</th>\n",
       "      <th>low</th>\n",
       "    </tr>\n",
       "    <tr>\n",
       "      <th>date</th>\n",
       "      <th></th>\n",
       "      <th></th>\n",
       "      <th></th>\n",
       "      <th></th>\n",
       "    </tr>\n",
       "  </thead>\n",
       "  <tbody>\n",
       "    <tr>\n",
       "      <th>2010-01-04</th>\n",
       "      <td>664.26</td>\n",
       "      <td>656.49</td>\n",
       "      <td>664.26</td>\n",
       "      <td>654.11</td>\n",
       "    </tr>\n",
       "    <tr>\n",
       "      <th>2010-01-05</th>\n",
       "      <td>660.45</td>\n",
       "      <td>654.60</td>\n",
       "      <td>662.38</td>\n",
       "      <td>652.94</td>\n",
       "    </tr>\n",
       "    <tr>\n",
       "      <th>2010-01-06</th>\n",
       "      <td>652.90</td>\n",
       "      <td>644.48</td>\n",
       "      <td>654.83</td>\n",
       "      <td>642.78</td>\n",
       "    </tr>\n",
       "    <tr>\n",
       "      <th>2010-01-07</th>\n",
       "      <td>644.48</td>\n",
       "      <td>633.01</td>\n",
       "      <td>646.11</td>\n",
       "      <td>626.06</td>\n",
       "    </tr>\n",
       "    <tr>\n",
       "      <th>2010-01-08</th>\n",
       "      <td>634.06</td>\n",
       "      <td>626.51</td>\n",
       "      <td>634.06</td>\n",
       "      <td>619.34</td>\n",
       "    </tr>\n",
       "    <tr>\n",
       "      <th>...</th>\n",
       "      <td>...</td>\n",
       "      <td>...</td>\n",
       "      <td>...</td>\n",
       "      <td>...</td>\n",
       "    </tr>\n",
       "    <tr>\n",
       "      <th>2022-12-30</th>\n",
       "      <td>9427.45</td>\n",
       "      <td>9382.23</td>\n",
       "      <td>9512.83</td>\n",
       "      <td>9382.23</td>\n",
       "    </tr>\n",
       "    <tr>\n",
       "      <th>2023-01-03</th>\n",
       "      <td>9403.34</td>\n",
       "      <td>9397.36</td>\n",
       "      <td>9439.66</td>\n",
       "      <td>9276.76</td>\n",
       "    </tr>\n",
       "    <tr>\n",
       "      <th>2023-01-04</th>\n",
       "      <td>9397.31</td>\n",
       "      <td>9372.23</td>\n",
       "      <td>9441.02</td>\n",
       "      <td>9326.96</td>\n",
       "    </tr>\n",
       "    <tr>\n",
       "      <th>2023-01-05</th>\n",
       "      <td>9432.48</td>\n",
       "      <td>9754.07</td>\n",
       "      <td>9754.07</td>\n",
       "      <td>9412.38</td>\n",
       "    </tr>\n",
       "    <tr>\n",
       "      <th>2023-01-06</th>\n",
       "      <td>9779.79</td>\n",
       "      <td>9767.98</td>\n",
       "      <td>9808.84</td>\n",
       "      <td>9683.72</td>\n",
       "    </tr>\n",
       "  </tbody>\n",
       "</table>\n",
       "<p>3157 rows × 4 columns</p>\n",
       "</div>"
      ],
      "text/plain": [
       "               open    close     high      low\n",
       "date                                          \n",
       "2010-01-04   664.26   656.49   664.26   654.11\n",
       "2010-01-05   660.45   654.60   662.38   652.94\n",
       "2010-01-06   652.90   644.48   654.83   642.78\n",
       "2010-01-07   644.48   633.01   646.11   626.06\n",
       "2010-01-08   634.06   626.51   634.06   619.34\n",
       "...             ...      ...      ...      ...\n",
       "2022-12-30  9427.45  9382.23  9512.83  9382.23\n",
       "2023-01-03  9403.34  9397.36  9439.66  9276.76\n",
       "2023-01-04  9397.31  9372.23  9441.02  9326.96\n",
       "2023-01-05  9432.48  9754.07  9754.07  9412.38\n",
       "2023-01-06  9779.79  9767.98  9808.84  9683.72\n",
       "\n",
       "[3157 rows x 4 columns]"
      ]
     },
     "execution_count": 25,
     "metadata": {},
     "output_type": "execute_result"
    }
   ],
   "source": [
    "# 从2010年1月1日开始，每月第一个交易日买入1手，每年最后一个交易日卖出所有，到今天的收益\n",
    "stock_record = stock_record['2010-01': '2023-12']\n",
    "stock_record"
   ]
  },
  {
   "cell_type": "code",
   "execution_count": 26,
   "metadata": {},
   "outputs": [],
   "source": [
    "# 每个月的和\n",
    "stock_record.resample('M').sum()\n",
    "# 每个月的第一天的数据 M可以写成MS。虽然结果的index是每个月的最后一天，实际取的第一天数据\n",
    "# last()即最后一天的数据\n",
    "stock_monthly = stock_record.resample('M').first()\n",
    "# 每年的最后一天的数据，注意最后一行数据的合理性：最后一天到了没\n",
    "stock_yearly = stock_record.resample('A').last()[:-1]"
   ]
  },
  {
   "cell_type": "code",
   "execution_count": 27,
   "metadata": {},
   "outputs": [
    {
     "data": {
      "text/plain": [
       "5724810.000000001"
      ]
     },
     "execution_count": 27,
     "metadata": {},
     "output_type": "execute_result"
    }
   ],
   "source": [
    "cost = 0\n",
    "# range, 不包括end\n",
    "for year in range(2010, 2024):\n",
    "  # 花费，支出\n",
    "  cost += -(stock_monthly.loc[str(year)]['open'].sum() * 100)\n",
    "  hold = len(stock_monthly.loc[str(year)]) * 100\n",
    "  # 今年的数值是没有的！！如果不排除今年的，会报错\n",
    "  if year != 2023:\n",
    "    sell = stock_yearly.loc[str(year)]['open'][0] * hold\n",
    "    cost += sell\n",
    "cost"
   ]
  }
 ],
 "metadata": {
  "kernelspec": {
   "display_name": "base",
   "language": "python",
   "name": "python3"
  },
  "language_info": {
   "codemirror_mode": {
    "name": "ipython",
    "version": 3
   },
   "file_extension": ".py",
   "mimetype": "text/x-python",
   "name": "python",
   "nbconvert_exporter": "python",
   "pygments_lexer": "ipython3",
   "version": "3.9.13"
  },
  "orig_nbformat": 4,
  "vscode": {
   "interpreter": {
    "hash": "ae8463592a6bf03d7a6a525450dfda08cf8ced71de467d9e16b891204533c235"
   }
  }
 },
 "nbformat": 4,
 "nbformat_minor": 2
}
