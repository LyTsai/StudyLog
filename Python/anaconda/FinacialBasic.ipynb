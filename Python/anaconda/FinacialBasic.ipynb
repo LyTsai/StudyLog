{
 "cells": [
  {
   "cell_type": "code",
   "execution_count": null,
   "id": "45e6ad0a",
   "metadata": {},
   "outputs": [],
   "source": [
    "# 输出多条内容\n",
    "from IPython.core.interactiveshell import InteractiveShell\n",
    "InteractiveShell.ast_node_interactivity = 'all'"
   ]
  },
  {
   "cell_type": "code",
   "execution_count": 3,
   "id": "a3105339",
   "metadata": {},
   "outputs": [],
   "source": [
    "def npv_f(cashflows, r):\n",
    "    total = 0\n",
    "    for i, cashflow in enumerate(cashflows):\n",
    "        total += cashflow / (1 + r) ** i\n",
    "    return total"
   ]
  },
  {
   "cell_type": "code",
   "execution_count": 7,
   "id": "1323b402",
   "metadata": {},
   "outputs": [
    {
     "data": {
      "text/plain": [
       "-0.002539673422037758"
      ]
     },
     "execution_count": 7,
     "metadata": {},
     "output_type": "execute_result"
    },
    {
     "data": {
      "text/plain": [
       "19.926231504029037"
      ]
     },
     "execution_count": 7,
     "metadata": {},
     "output_type": "execute_result"
    }
   ],
   "source": [
    "cashflows_a = [0, -100, 30, 70, 110, 50]\n",
    "cashflows_b = [0, -100, 110, 70, 30, 50]\n",
    "\n",
    "npv_f(cashflows_a, 0.4584)\n",
    "npv_f(cashflows_b, 0.4584)"
   ]
  },
  {
   "cell_type": "code",
   "execution_count": 8,
   "id": "b19c70e2",
   "metadata": {},
   "outputs": [],
   "source": [
    "# 二分法逼近\n",
    "def irr_f(cashflows, iterations=10000):\n",
    "    rate_d = 0\n",
    "    rate_u = 1\n",
    "    rate = (rate_d + rate_u) / 2\n",
    "    npv = npv_f(cashflows, rate)\n",
    "    while abs(npv) > 0.0001:\n",
    "        if npv > 0:\n",
    "            rate_d = rate\n",
    "        else:\n",
    "            rate_u = rate\n",
    "        rate = (rate_u + rate_d) / 2\n",
    "        npv = npv_f(cashflows, rate)\n",
    "    return rate"
   ]
  },
  {
   "cell_type": "code",
   "execution_count": 9,
   "id": "804e544c",
   "metadata": {},
   "outputs": [
    {
     "data": {
      "text/plain": [
       "0.4583778381347656"
      ]
     },
     "execution_count": 9,
     "metadata": {},
     "output_type": "execute_result"
    },
    {
     "data": {
      "text/plain": [
       "0.7112693786621094"
      ]
     },
     "execution_count": 9,
     "metadata": {},
     "output_type": "execute_result"
    }
   ],
   "source": [
    "irr_f(cashflows_a)\n",
    "irr_f(cashflows_b)"
   ]
  }
 ],
 "metadata": {
  "kernelspec": {
   "display_name": "Python 3",
   "language": "python",
   "name": "python3"
  },
  "language_info": {
   "codemirror_mode": {
    "name": "ipython",
    "version": 3
   },
   "file_extension": ".py",
   "mimetype": "text/x-python",
   "name": "python",
   "nbconvert_exporter": "python",
   "pygments_lexer": "ipython3",
   "version": "3.9.5 (default, May  4 2021, 03:36:27) \n[Clang 12.0.0 (clang-1200.0.32.29)]"
  },
  "vscode": {
   "interpreter": {
    "hash": "aee8b7b246df8f9039afb4144a1f6fd8d2ca17a180786b69acc140d282b71a49"
   }
  }
 },
 "nbformat": 4,
 "nbformat_minor": 5
}
