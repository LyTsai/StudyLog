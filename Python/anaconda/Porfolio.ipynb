{
 "cells": [
  {
   "cell_type": "code",
   "execution_count": 1,
   "metadata": {},
   "outputs": [],
   "source": [
    "from datetime import datetime\n",
    "\n",
    "import backtrader as bt\n",
    "import matplotlib.pyplot as plt\n",
    "import akshare as ak\n",
    "import pandas as pd"
   ]
  },
  {
   "cell_type": "code",
   "execution_count": 2,
   "metadata": {},
   "outputs": [],
   "source": [
    "plt.rcParams[\"font.sans-serif\"] = [\"SimHei\"]\n",
    "plt.rcParams[\"axes.unicode_minus\"] = False"
   ]
  },
  {
   "cell_type": "code",
   "execution_count": 3,
   "metadata": {},
   "outputs": [],
   "source": [
    "# 利用 AKShare 获取股票的后复权数据，这里只获取前 6 列\n",
    "stock_hfq_df = ak.stock_zh_a_hist(symbol=\"000001\", adjust=\"hfq\").iloc[:, :6]\n",
    "\n",
    "# 处理字段命名，以符合 Backtrader 的要求\n",
    "# 日期\t开盘\t收盘\t最高\t最低\t成交量\n",
    "stock_hfq_df.columns = [\n",
    "  'date',\n",
    "  'open',\n",
    "  'close',\n",
    "  'high',\n",
    "  'low',\n",
    "  'volumn'\n",
    "]\n",
    "# # 把 date 作为日期索引，以符合 Backtrader 的要求\n",
    "stock_hfq_df.index = pd.to_datetime(stock_hfq_df['date'])\n"
   ]
  },
  {
   "cell_type": "code",
   "execution_count": 4,
   "metadata": {},
   "outputs": [],
   "source": [
    "class MyStrategy(bt.Strategy):\n",
    "  \"\"\"\n",
    "  主策略程序\n",
    "  \"\"\"\n",
    "  params = (('maperiod', 20),)  # 全局设定交易策略的参数\n",
    "\n",
    "  def __init__(self):\n",
    "    \"\"\"\n",
    "    初始化函数\n",
    "    \"\"\"\n",
    "    self.data_close = self.datas[0].close # 指定价格序列\n",
    "    # 初始化交易指令、买卖价格和手续费\n",
    "    self.order = None\n",
    "    self.buy_price = None\n",
    "    self.buy_comm = None\n",
    "    # 添加移动均线指标\n",
    "    self.sma = bt.indicators.SimpleMovingAverage(\n",
    "      self.datas[0], period=self.params.maperiod\n",
    "    )\n",
    "\n",
    "  def next(self):\n",
    "    \"\"\"\n",
    "    执行逻辑\n",
    "    \"\"\"\n",
    "    if self.order:  # 检查是否有指令等待执行\n",
    "      return\n",
    "    # 检查是否持仓\n",
    "    if not self.position: # 没有持仓\n",
    "      if self.data_close[0] > self.sma[0]:  # 执行买入条件判断：收盘价格上涨突破20日均线\n",
    "        self.order = self.buy(size=100) # 执行买入\n",
    "      else:\n",
    "        if self.data_close[0] < self.sma[0]:   # 执行卖出条件判断：收盘价格跌破20日均线\n",
    "          self.order = self.sell(size=100)"
   ]
  },
  {
   "cell_type": "code",
   "execution_count": 5,
   "metadata": {},
   "outputs": [
    {
     "name": "stdout",
     "output_type": "stream",
     "text": [
      "初始资金: 1000000\n",
      "回测期间：20190101:20221220\n",
      "总资金: 1000000\n",
      "净收益: 0\n"
     ]
    },
    {
     "ename": "AttributeError",
     "evalue": "'Cerebro' object has no attribute '_exactbars'",
     "output_type": "error",
     "traceback": [
      "\u001b[0;31m---------------------------------------------------------------------------\u001b[0m",
      "\u001b[0;31mAttributeError\u001b[0m                            Traceback (most recent call last)",
      "Cell \u001b[0;32mIn[5], line 18\u001b[0m\n\u001b[1;32m     15\u001b[0m \u001b[39mprint\u001b[39m(\u001b[39mf\u001b[39m\u001b[39m\"\u001b[39m\u001b[39m总资金: \u001b[39m\u001b[39m{\u001b[39;00m\u001b[39mround\u001b[39m(port_value, \u001b[39m2\u001b[39m)\u001b[39m}\u001b[39;00m\u001b[39m\"\u001b[39m)\n\u001b[1;32m     16\u001b[0m \u001b[39mprint\u001b[39m(\u001b[39mf\u001b[39m\u001b[39m\"\u001b[39m\u001b[39m净收益: \u001b[39m\u001b[39m{\u001b[39;00m\u001b[39mround\u001b[39m(pnl, \u001b[39m2\u001b[39m)\u001b[39m}\u001b[39;00m\u001b[39m\"\u001b[39m)\n\u001b[0;32m---> 18\u001b[0m cerebro\u001b[39m.\u001b[39;49mplot(style\u001b[39m=\u001b[39;49m\u001b[39m'\u001b[39;49m\u001b[39mcandlestick\u001b[39;49m\u001b[39m'\u001b[39;49m)  \u001b[39m# 画图\u001b[39;00m\n",
      "File \u001b[0;32m/usr/local/lib/python3.9/site-packages/backtrader/cerebro.py:970\u001b[0m, in \u001b[0;36mCerebro.plot\u001b[0;34m(self, plotter, numfigs, iplot, start, end, width, height, dpi, tight, use, **kwargs)\u001b[0m\n\u001b[1;32m    936\u001b[0m \u001b[39mdef\u001b[39;00m \u001b[39mplot\u001b[39m(\u001b[39mself\u001b[39m, plotter\u001b[39m=\u001b[39m\u001b[39mNone\u001b[39;00m, numfigs\u001b[39m=\u001b[39m\u001b[39m1\u001b[39m, iplot\u001b[39m=\u001b[39m\u001b[39mTrue\u001b[39;00m, start\u001b[39m=\u001b[39m\u001b[39mNone\u001b[39;00m, end\u001b[39m=\u001b[39m\u001b[39mNone\u001b[39;00m,\n\u001b[1;32m    937\u001b[0m          width\u001b[39m=\u001b[39m\u001b[39m16\u001b[39m, height\u001b[39m=\u001b[39m\u001b[39m9\u001b[39m, dpi\u001b[39m=\u001b[39m\u001b[39m300\u001b[39m, tight\u001b[39m=\u001b[39m\u001b[39mTrue\u001b[39;00m, use\u001b[39m=\u001b[39m\u001b[39mNone\u001b[39;00m,\n\u001b[1;32m    938\u001b[0m          \u001b[39m*\u001b[39m\u001b[39m*\u001b[39mkwargs):\n\u001b[1;32m    939\u001b[0m     \u001b[39m'''\u001b[39;00m\n\u001b[1;32m    940\u001b[0m \u001b[39m    Plots the strategies inside cerebro\u001b[39;00m\n\u001b[1;32m    941\u001b[0m \n\u001b[0;32m   (...)\u001b[0m\n\u001b[1;32m    968\u001b[0m \u001b[39m    ``tight``: only save actual content and not the frame of the figure\u001b[39;00m\n\u001b[1;32m    969\u001b[0m \u001b[39m    '''\u001b[39;00m\n\u001b[0;32m--> 970\u001b[0m     \u001b[39mif\u001b[39;00m \u001b[39mself\u001b[39;49m\u001b[39m.\u001b[39;49m_exactbars \u001b[39m>\u001b[39m \u001b[39m0\u001b[39m:\n\u001b[1;32m    971\u001b[0m         \u001b[39mreturn\u001b[39;00m\n\u001b[1;32m    973\u001b[0m     \u001b[39mif\u001b[39;00m \u001b[39mnot\u001b[39;00m plotter:\n",
      "\u001b[0;31mAttributeError\u001b[0m: 'Cerebro' object has no attribute '_exactbars'"
     ]
    }
   ],
   "source": [
    "cerebro = bt.Cerebro()  # 初始化回测系统\n",
    "start_date = datetime(2019, 1, 1)\n",
    "end_date = datetime(2022, 12, 20)\n",
    "data = bt.feeds.PandasData(dataname=stock_hfq_df, fromdate=start_date, todate=end_date) # 加载数据\n",
    "cerebro.adddata(data) # 将数据传入回测系统\n",
    "cerebro.addstrategy(MyStrategy) # 将交易策略加载到回测系统中\n",
    "\n",
    "start_cash = 1000000\n",
    "cerebro.broker.setcash(start_cash) # 设置初始资本\n",
    "\n",
    "port_value = cerebro.broker.getvalue()  # 获取回测结束后的总资金\n",
    "pnl = port_value - start_cash  # 盈亏统计\n",
    "\n",
    "print(f\"初始资金: {start_cash}\\n回测期间：{start_date.strftime('%Y%m%d')}:{end_date.strftime('%Y%m%d')}\")\n",
    "print(f\"总资金: {round(port_value, 2)}\")\n",
    "print(f\"净收益: {round(pnl, 2)}\")\n",
    "\n",
    "cerebro.plot(style='candlestick')  # 画图"
   ]
  }
 ],
 "metadata": {
  "kernelspec": {
   "display_name": "Python 3",
   "language": "python",
   "name": "python3"
  },
  "language_info": {
   "codemirror_mode": {
    "name": "ipython",
    "version": 3
   },
   "file_extension": ".py",
   "mimetype": "text/x-python",
   "name": "python",
   "nbconvert_exporter": "python",
   "pygments_lexer": "ipython3",
   "version": "3.9.5"
  },
  "orig_nbformat": 4,
  "vscode": {
   "interpreter": {
    "hash": "aee8b7b246df8f9039afb4144a1f6fd8d2ca17a180786b69acc140d282b71a49"
   }
  }
 },
 "nbformat": 4,
 "nbformat_minor": 2
}
