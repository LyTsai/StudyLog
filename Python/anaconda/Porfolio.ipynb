{
 "cells": [
  {
   "cell_type": "code",
   "execution_count": 12,
   "metadata": {},
   "outputs": [],
   "source": [
    "from datetime import datetime\n",
    "\n",
    "import backtrader as bt\n",
    "import matplotlib.pyplot as plt\n",
    "import akshare as ak\n",
    "import pandas as pd"
   ]
  },
  {
   "cell_type": "code",
   "execution_count": 13,
   "metadata": {},
   "outputs": [],
   "source": [
    "plt.rcParams[\"font.sans-serif\"] = [\"SimHei\"]\n",
    "plt.rcParams[\"axes.unicode_minus\"] = False"
   ]
  },
  {
   "cell_type": "code",
   "execution_count": null,
   "metadata": {},
   "outputs": [],
   "source": [
    "# 利用 AKShare 获取股票的后复权数据，这里只获取前 6 列\n",
    "stock_hfq_df = ak.stock_zh_a_hist(symbol=\"000001\", adjust=\"hfq\").iloc[:, :6]\n",
    "\n",
    "# 处理字段命名，以符合 Backtrader 的要求\n",
    "# 日期\t开盘\t收盘\t最高\t最低\t成交量\n",
    "stock_hfq_df.columns = [\n",
    "  'date',\n",
    "  'open',\n",
    "  'close',\n",
    "  'high',\n",
    "  'low',\n",
    "  'volumn'\n",
    "]\n",
    "# # 把 date 作为日期索引，以符合 Backtrader 的要求\n",
    "stock_hfq_df.index = pd.to_datetime(stock_hfq_df['date'])\n"
   ]
  },
  {
   "cell_type": "code",
   "execution_count": null,
   "metadata": {},
   "outputs": [],
   "source": [
    "class MyStrategy(bt.Strategy):\n",
    "  \"\"\"\n",
    "  主策略程序\n",
    "  \"\"\"\n",
    "  params = (('maperiod', 20),)  # 全局设定交易策略的参数\n",
    "\n",
    "  def __init__(self):\n",
    "    \"\"\"\n",
    "    初始化函数\n",
    "    \"\"\"\n",
    "    self.data_close = self.datas[0].close # 指定价格序列\n",
    "    # 初始化交易指令、买卖价格和手续费\n",
    "    self.order = None\n",
    "    self.buy_price = None\n",
    "    self.buy_comm = None\n",
    "    # 添加移动均线指标\n",
    "    self.sma = bt.indicators.SimpleMovingAverage(\n",
    "      self.datas[0], period=self.params.maperiod\n",
    "    )\n",
    "\n",
    "  def next(self):\n",
    "    \"\"\"\n",
    "    执行逻辑\n",
    "    \"\"\"\n",
    "    if self.order:  # 检查是否有指令等待执行\n",
    "      return\n",
    "    # 检查是否持仓\n",
    "    if not self.position: # 没有持仓\n",
    "      if self.data_close[0] > self.sma[0]:  # 执行买入条件判断：收盘价格上涨突破20日均线\n",
    "        self.order = self.buy(size=100) # 执行买入\n",
    "      else:\n",
    "        if self.data_close[0] < self.sma[0]:   # 执行卖出条件判断：收盘价格跌破20日均线\n",
    "          self.order = self.sell(size=100)"
   ]
  },
  {
   "cell_type": "code",
   "execution_count": null,
   "metadata": {},
   "outputs": [],
   "source": [
    "cerebro = bt.Cerebro()\n",
    "start_time = datetime(1991, 4, 3)\n"
   ]
  }
 ],
 "metadata": {
  "kernelspec": {
   "display_name": "Python 3",
   "language": "python",
   "name": "python3"
  },
  "language_info": {
   "codemirror_mode": {
    "name": "ipython",
    "version": 3
   },
   "file_extension": ".py",
   "mimetype": "text/x-python",
   "name": "python",
   "nbconvert_exporter": "python",
   "pygments_lexer": "ipython3",
   "version": "3.9.5"
  },
  "orig_nbformat": 4,
  "vscode": {
   "interpreter": {
    "hash": "aee8b7b246df8f9039afb4144a1f6fd8d2ca17a180786b69acc140d282b71a49"
   }
  }
 },
 "nbformat": 4,
 "nbformat_minor": 2
}
